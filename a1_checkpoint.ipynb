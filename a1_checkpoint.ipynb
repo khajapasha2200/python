{
  "nbformat": 4,
  "nbformat_minor": 0,
  "metadata": {
    "colab": {
      "name": "a1-checkpoint.ipynb",
      "version": "0.3.2",
      "provenance": [],
      "include_colab_link": true
    },
    "language_info": {
      "codemirror_mode": {
        "name": "ipython",
        "version": 3
      },
      "file_extension": ".py",
      "mimetype": "text/x-python",
      "name": "python",
      "nbconvert_exporter": "python",
      "pygments_lexer": "ipython3",
      "version": "3.7.3"
    },
    "kernelspec": {
      "display_name": "Python 3",
      "language": "python",
      "name": "python3"
    }
  },
  "cells": [
    {
      "cell_type": "markdown",
      "metadata": {
        "id": "view-in-github",
        "colab_type": "text"
      },
      "source": [
        "<a href=\"https://colab.research.google.com/github/khajapasha2200/python/blob/master/a1_checkpoint.ipynb\" target=\"_parent\"><img src=\"https://colab.research.google.com/assets/colab-badge.svg\" alt=\"Open In Colab\"/></a>"
      ]
    },
    {
      "cell_type": "code",
      "metadata": {
        "id": "pfJteXiGLpM6",
        "colab_type": "code",
        "colab": {},
        "outputId": "20eb6184-9fc4-4bba-c554-d0d98efd560e"
      },
      "source": [
        "\n",
        "x=20\n",
        "if(x<15):\n",
        "    print(\"lesser\");\n",
        "else:\n",
        "    print(\"greater\");\n"
      ],
      "execution_count": 0,
      "outputs": [
        {
          "output_type": "stream",
          "text": [
            "greater\n"
          ],
          "name": "stdout"
        }
      ]
    },
    {
      "cell_type": "code",
      "metadata": {
        "id": "u9KTcOT5LpNc",
        "colab_type": "code",
        "colab": {},
        "outputId": "27c415c8-25a1-462a-fde6-01dde93ac778"
      },
      "source": [
        "x=10\n",
        "if(x<15):\n",
        "  print(\"hello\");"
      ],
      "execution_count": 0,
      "outputs": [
        {
          "output_type": "stream",
          "text": [
            "hello\n"
          ],
          "name": "stdout"
        }
      ]
    },
    {
      "cell_type": "code",
      "metadata": {
        "id": "mkZjGj4wLpNo",
        "colab_type": "code",
        "colab": {},
        "outputId": "a4b4075d-58e5-4bd8-ec50-2c5f8c22b68f"
      },
      "source": [
        "x=20\n",
        "y=10\n",
        "res=x+y\n",
        "print(res)"
      ],
      "execution_count": 0,
      "outputs": [
        {
          "output_type": "stream",
          "text": [
            "30\n"
          ],
          "name": "stdout"
        }
      ]
    },
    {
      "cell_type": "code",
      "metadata": {
        "id": "bXY5Zt1bLpNz",
        "colab_type": "code",
        "colab": {},
        "outputId": "65017b78-f447-4807-c51c-0001da56877a"
      },
      "source": [
        "x=10\n",
        "y=5\n",
        "if(x>y):\n",
        "    print(\"x is greater\");\n",
        "else:\n",
        "    print(\"y is greater\");\n",
        "    \n"
      ],
      "execution_count": 0,
      "outputs": [
        {
          "output_type": "stream",
          "text": [
            "x is greater\n"
          ],
          "name": "stdout"
        }
      ]
    },
    {
      "cell_type": "code",
      "metadata": {
        "id": "Kxwn-waULpN9",
        "colab_type": "code",
        "colab": {},
        "outputId": "34ec4ee8-eb06-452b-cbaa-349be014645b"
      },
      "source": [
        "x=10\n",
        "y=12\n",
        "res=x*y\n",
        "print(res)"
      ],
      "execution_count": 0,
      "outputs": [
        {
          "output_type": "stream",
          "text": [
            "120\n"
          ],
          "name": "stdout"
        }
      ]
    },
    {
      "cell_type": "code",
      "metadata": {
        "id": "VgFIDXXKLpOH",
        "colab_type": "code",
        "colab": {},
        "outputId": "0dbf04f3-c0af-4033-88f1-89f249e888f6"
      },
      "source": [
        "x=10\n",
        "y=12\n",
        "if(x==y):\n",
        "   print(x*x)\n",
        "else:\n",
        "   print(x*y)"
      ],
      "execution_count": 0,
      "outputs": [
        {
          "output_type": "stream",
          "text": [
            "120\n"
          ],
          "name": "stdout"
        }
      ]
    },
    {
      "cell_type": "code",
      "metadata": {
        "id": "TSAa9yMvLpOR",
        "colab_type": "code",
        "colab": {},
        "outputId": "0f2ad9be-2d1b-42b8-b9ee-14edb658074f"
      },
      "source": [
        "x=20\n",
        "if(x>0):\n",
        "   print(\"x is +ve\");\n",
        "elif(x<0):\n",
        "    print(\"x is -ve\");\n",
        "elif(x==0):\n",
        "    print(\"it is zero\");"
      ],
      "execution_count": 0,
      "outputs": [
        {
          "output_type": "stream",
          "text": [
            "x is +ve\n"
          ],
          "name": "stdout"
        }
      ]
    },
    {
      "cell_type": "code",
      "metadata": {
        "id": "7DqngiVhLpOZ",
        "colab_type": "code",
        "colab": {},
        "outputId": "20953d2e-f031-4be8-c282-e0fc964dc6ee"
      },
      "source": [
        "x=-20\n",
        "if(x>0):\n",
        "   print(\"x is +ve\");\n",
        "elif(x<0):\n",
        "    print(\"x is -ve\");\n",
        "elif(x==0):\n",
        "    print(\"it is zero\");"
      ],
      "execution_count": 0,
      "outputs": [
        {
          "output_type": "stream",
          "text": [
            "x is -ve\n"
          ],
          "name": "stdout"
        }
      ]
    },
    {
      "cell_type": "code",
      "metadata": {
        "id": "s6sHi0EmLpOg",
        "colab_type": "code",
        "colab": {},
        "outputId": "825020d2-3fb0-4d4e-993f-a397af3adfef"
      },
      "source": [
        "x=0\n",
        "if(x>0):\n",
        "   print(\"x is +ve\");\n",
        "elif(x<0):\n",
        "    print(\"x is -ve\");\n",
        "elif(x==0):\n",
        "    print(\"it is zero\");"
      ],
      "execution_count": 0,
      "outputs": [
        {
          "output_type": "stream",
          "text": [
            "it is zero\n"
          ],
          "name": "stdout"
        }
      ]
    },
    {
      "cell_type": "code",
      "metadata": {
        "id": "sk3BHF_tLpOn",
        "colab_type": "code",
        "colab": {},
        "outputId": "83f66d2d-3515-4d86-8812-795e483f8a42"
      },
      "source": [
        "x=2*4*6-2+22/2\n",
        "print(x)\n"
      ],
      "execution_count": 0,
      "outputs": [
        {
          "output_type": "stream",
          "text": [
            "57.0\n"
          ],
          "name": "stdout"
        }
      ]
    },
    {
      "cell_type": "code",
      "metadata": {
        "id": "uvJIha0zLpOu",
        "colab_type": "code",
        "colab": {},
        "outputId": "2ce86210-c147-4e5c-9ccd-66abb3b7a19f"
      },
      "source": [
        "x=22\n",
        "y=3\n",
        "print(x/y)"
      ],
      "execution_count": 0,
      "outputs": [
        {
          "output_type": "stream",
          "text": [
            "7.333333333333333\n"
          ],
          "name": "stdout"
        }
      ]
    },
    {
      "cell_type": "code",
      "metadata": {
        "id": "kBYWCDAoLpOy",
        "colab_type": "code",
        "colab": {},
        "outputId": "f3bcdfae-0598-4d09-ca65-8a1f34d02780"
      },
      "source": [
        "x=22\n",
        "y=3\n",
        "print(x//y)"
      ],
      "execution_count": 0,
      "outputs": [
        {
          "output_type": "stream",
          "text": [
            "7\n"
          ],
          "name": "stdout"
        }
      ]
    },
    {
      "cell_type": "code",
      "metadata": {
        "id": "ObfiXz93LpO3",
        "colab_type": "code",
        "colab": {},
        "outputId": "e0f30061-13ac-4f89-ebcc-04f4038f99cf"
      },
      "source": [
        "x=22+42\n",
        "y=3*6\n",
        "print(x/y)"
      ],
      "execution_count": 0,
      "outputs": [
        {
          "output_type": "stream",
          "text": [
            "3.5555555555555554\n"
          ],
          "name": "stdout"
        }
      ]
    },
    {
      "cell_type": "code",
      "metadata": {
        "id": "tC7DPbv2LpO-",
        "colab_type": "code",
        "colab": {},
        "outputId": "8877565d-5057-40ad-f77b-86fc60fa73cf"
      },
      "source": [
        "x=22+42\n",
        "y=3*6\n",
        "print(x//y)"
      ],
      "execution_count": 0,
      "outputs": [
        {
          "output_type": "stream",
          "text": [
            "3\n"
          ],
          "name": "stdout"
        }
      ]
    },
    {
      "cell_type": "code",
      "metadata": {
        "id": "Rtm3dXFCLpPE",
        "colab_type": "code",
        "colab": {},
        "outputId": "1e41b94b-4a67-4028-a95d-5a9ea53495d2"
      },
      "source": [
        "n=1;\n",
        "while(n<=10):\n",
        "    print(n);\n",
        "    n=n+1"
      ],
      "execution_count": 0,
      "outputs": [
        {
          "output_type": "stream",
          "text": [
            "1\n",
            "2\n",
            "3\n",
            "4\n",
            "5\n",
            "6\n",
            "7\n",
            "8\n",
            "9\n",
            "10\n"
          ],
          "name": "stdout"
        }
      ]
    },
    {
      "cell_type": "code",
      "metadata": {
        "id": "skjyTDtsLpPN",
        "colab_type": "code",
        "colab": {},
        "outputId": "03635791-0a34-424d-c5e4-495998cc8789"
      },
      "source": [
        "n=-22;\n",
        "while(n>=-45):\n",
        "    print(n);\n",
        "    n=n-1"
      ],
      "execution_count": 0,
      "outputs": [
        {
          "output_type": "stream",
          "text": [
            "-22\n",
            "-23\n",
            "-24\n",
            "-25\n",
            "-26\n",
            "-27\n",
            "-28\n",
            "-29\n",
            "-30\n",
            "-31\n",
            "-32\n",
            "-33\n",
            "-34\n",
            "-35\n",
            "-36\n",
            "-37\n",
            "-38\n",
            "-39\n",
            "-40\n",
            "-41\n",
            "-42\n",
            "-43\n",
            "-44\n",
            "-45\n"
          ],
          "name": "stdout"
        }
      ]
    },
    {
      "cell_type": "code",
      "metadata": {
        "id": "GRBHW7NiLpPR",
        "colab_type": "code",
        "colab": {},
        "outputId": "c7a4108c-67a6-48cc-a375-0ca4b7e21d79"
      },
      "source": [
        "x=input(\"enter num1\")\n",
        "y=input(\"enter num2\")\n",
        "if(x>y):\n",
        "    print(\"x is greater\")\n",
        "else:\n",
        "    print(\"y is greater\")\n",
        "    \n",
        "    "
      ],
      "execution_count": 0,
      "outputs": [
        {
          "output_type": "stream",
          "text": [
            "enter num122\n",
            "enter num2133\n",
            "x is greater\n"
          ],
          "name": "stdout"
        }
      ]
    },
    {
      "cell_type": "code",
      "metadata": {
        "id": "KB8iQUYJLpPX",
        "colab_type": "code",
        "colab": {},
        "outputId": "3d6daec2-476e-41a1-b1ef-e209b754b415"
      },
      "source": [
        "x=int(input(\"enter lower list num1\"));\n",
        "y=int(input(\"enter upper list num2\"));\n",
        "sum=0;\n",
        "while(x!=y):\n",
        "    if(x%2==0):\n",
        "        sum=sum+x;\n",
        "    x=x+1;\n",
        "    print(sum);"
      ],
      "execution_count": 0,
      "outputs": [
        {
          "output_type": "stream",
          "text": [
            "enter lower list num11\n",
            "enter upper list num2100\n",
            "0\n",
            "2\n",
            "2\n",
            "6\n",
            "6\n",
            "12\n",
            "12\n",
            "20\n",
            "20\n",
            "30\n",
            "30\n",
            "42\n",
            "42\n",
            "56\n",
            "56\n",
            "72\n",
            "72\n",
            "90\n",
            "90\n",
            "110\n",
            "110\n",
            "132\n",
            "132\n",
            "156\n",
            "156\n",
            "182\n",
            "182\n",
            "210\n",
            "210\n",
            "240\n",
            "240\n",
            "272\n",
            "272\n",
            "306\n",
            "306\n",
            "342\n",
            "342\n",
            "380\n",
            "380\n",
            "420\n",
            "420\n",
            "462\n",
            "462\n",
            "506\n",
            "506\n",
            "552\n",
            "552\n",
            "600\n",
            "600\n",
            "650\n",
            "650\n",
            "702\n",
            "702\n",
            "756\n",
            "756\n",
            "812\n",
            "812\n",
            "870\n",
            "870\n",
            "930\n",
            "930\n",
            "992\n",
            "992\n",
            "1056\n",
            "1056\n",
            "1122\n",
            "1122\n",
            "1190\n",
            "1190\n",
            "1260\n",
            "1260\n",
            "1332\n",
            "1332\n",
            "1406\n",
            "1406\n",
            "1482\n",
            "1482\n",
            "1560\n",
            "1560\n",
            "1640\n",
            "1640\n",
            "1722\n",
            "1722\n",
            "1806\n",
            "1806\n",
            "1892\n",
            "1892\n",
            "1980\n",
            "1980\n",
            "2070\n",
            "2070\n",
            "2162\n",
            "2162\n",
            "2256\n",
            "2256\n",
            "2352\n",
            "2352\n",
            "2450\n",
            "2450\n"
          ],
          "name": "stdout"
        }
      ]
    },
    {
      "cell_type": "code",
      "metadata": {
        "id": "9oZ2HkyPLpPf",
        "colab_type": "code",
        "colab": {},
        "outputId": "3b56012c-8cd8-4cac-98f7-f1efd5c2e595"
      },
      "source": [
        "x=int(input(\"enter the no.\"))\n",
        "sum=0\n",
        "while(x!=0):\n",
        "    r=x%10\n",
        "    if(r%2==0):\n",
        "        sum=sum+r\n",
        "    x=x//10\n",
        "print(sum)"
      ],
      "execution_count": 0,
      "outputs": [
        {
          "output_type": "stream",
          "text": [
            "enter the no.821\n",
            "10\n"
          ],
          "name": "stdout"
        }
      ]
    },
    {
      "cell_type": "code",
      "metadata": {
        "id": "PE29pexgLpPk",
        "colab_type": "code",
        "colab": {},
        "outputId": "36743c3d-8b90-47fa-bfd0-9bdb82c24c5b"
      },
      "source": [
        "x=int(input(\"enter the no.\"))\n",
        "sum=0\n",
        "while(x!=0):\n",
        "    r=x%10\n",
        "    if(r%2==0):\n",
        "        sum=sum+r\n",
        "    x=x//10\n",
        "print(sum)"
      ],
      "execution_count": 0,
      "outputs": [
        {
          "output_type": "stream",
          "text": [
            "enter the no.145\n",
            "4\n"
          ],
          "name": "stdout"
        }
      ]
    },
    {
      "cell_type": "code",
      "metadata": {
        "id": "VJjQEOf0LpPp",
        "colab_type": "code",
        "colab": {},
        "outputId": "d220290a-04d4-4f03-cba5-29b27a2d446e"
      },
      "source": [
        "x=int(input(\"enter the no.\"))\n",
        "sum=0\n",
        "while(x!=0):\n",
        "    r=x%10\n",
        "    if(r%2==0):\n",
        "        sum=sum+r\n",
        "    x=x//10\n",
        "print(sum)\n"
      ],
      "execution_count": 0,
      "outputs": [
        {
          "output_type": "stream",
          "text": [
            "enter the no.2356\n",
            "8\n"
          ],
          "name": "stdout"
        }
      ]
    },
    {
      "cell_type": "code",
      "metadata": {
        "id": "_lW9-PD1LpPy",
        "colab_type": "code",
        "colab": {},
        "outputId": "497a6c75-8e79-497f-918a-c6ce69c92bc2"
      },
      "source": [
        "x=int(input(\"enter a num\"));\n",
        "while(x!=0):\n",
        "    r=x%10;\n",
        "    if(r==0):\n",
        "        print(\"zero\")\n",
        "    elif(r==1):\n",
        "        print(\"0ne\")\n",
        "    elif(r==2):\n",
        "        print(\"two\")\n",
        "    elif(r==3):\n",
        "        print(\"three\")\n",
        "    elif(r==4):\n",
        "        print(\"four\")\n",
        "    x=x//10"
      ],
      "execution_count": 0,
      "outputs": [
        {
          "output_type": "stream",
          "text": [
            "enter a num1234\n",
            "four\n",
            "three\n",
            "two\n",
            "0ne\n"
          ],
          "name": "stdout"
        }
      ]
    },
    {
      "cell_type": "code",
      "metadata": {
        "id": "xiodrVjHLpP3",
        "colab_type": "code",
        "colab": {}
      },
      "source": [
        "n=int(input(\"enter a digit to find\"));\n",
        "x=int(input(\"\"));\n",
        "y=int(input(\"\"));\n"
      ],
      "execution_count": 0,
      "outputs": []
    },
    {
      "cell_type": "code",
      "metadata": {
        "id": "UsDUNzUcLpP9",
        "colab_type": "code",
        "colab": {}
      },
      "source": [
        ""
      ],
      "execution_count": 0,
      "outputs": []
    }
  ]
}