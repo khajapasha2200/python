{
  "nbformat": 4,
  "nbformat_minor": 0,
  "metadata": {
    "colab": {
      "name": "123mmkp-checkpoint.ipynb",
      "version": "0.3.2",
      "provenance": [],
      "include_colab_link": true
    },
    "language_info": {
      "codemirror_mode": {
        "name": "ipython",
        "version": 3
      },
      "file_extension": ".py",
      "mimetype": "text/x-python",
      "name": "python",
      "nbconvert_exporter": "python",
      "pygments_lexer": "ipython3",
      "version": "3.7.3"
    },
    "kernelspec": {
      "display_name": "Python 3",
      "language": "python",
      "name": "python3"
    }
  },
  "cells": [
    {
      "cell_type": "markdown",
      "metadata": {
        "id": "view-in-github",
        "colab_type": "text"
      },
      "source": [
        "<a href=\"https://colab.research.google.com/github/khajapasha2200/python/blob/master/123mmkp_checkpoint.ipynb\" target=\"_parent\"><img src=\"https://colab.research.google.com/assets/colab-badge.svg\" alt=\"Open In Colab\"/></a>"
      ]
    },
    {
      "cell_type": "markdown",
      "metadata": {
        "id": "E7z30BrqPTDg",
        "colab_type": "text"
      },
      "source": [
        "## ex 1"
      ]
    },
    {
      "cell_type": "code",
      "metadata": {
        "id": "AGNKlwwoPTDi",
        "colab_type": "code",
        "colab": {},
        "outputId": "b8b7ddf3-0f2d-4f2f-b8d8-4f25ffc59a11"
      },
      "source": [
        "def printeven(n):\n",
        "    cnt=0\n",
        "    sum=0\n",
        "    while(cnt!=n):\n",
        "        if(cnt%2==0):\n",
        "            sum=sum+cnt\n",
        "        cnt=cnt+1\n",
        "    return sum\n",
        "            \n",
        "print(printeven(20))"
      ],
      "execution_count": 0,
      "outputs": [
        {
          "output_type": "stream",
          "text": [
            "90\n"
          ],
          "name": "stdout"
        }
      ]
    },
    {
      "cell_type": "markdown",
      "metadata": {
        "id": "MPjRSojKPTDs",
        "colab_type": "text"
      },
      "source": [
        "## ex-2"
      ]
    },
    {
      "cell_type": "code",
      "metadata": {
        "id": "WEl7hEXWPTDt",
        "colab_type": "code",
        "colab": {},
        "outputId": "f3515b8d-429c-4e24-a01c-877c96896bf2"
      },
      "source": [
        "def factorslist(n):\n",
        "    i=1\n",
        "    while(i!=n):\n",
        "        if(n%i==0):\n",
        "            print(i,end= \" \")\n",
        "        i=i+1\n",
        "    return\n",
        "factorslist(12)"
      ],
      "execution_count": 0,
      "outputs": [
        {
          "output_type": "stream",
          "text": [
            "1 2 3 4 6 "
          ],
          "name": "stdout"
        }
      ]
    },
    {
      "cell_type": "markdown",
      "metadata": {
        "id": "HLjwHaCVPTDy",
        "colab_type": "text"
      },
      "source": [
        "## ex-3"
      ]
    },
    {
      "cell_type": "code",
      "metadata": {
        "id": "ZXgjXPBJPTD0",
        "colab_type": "code",
        "colab": {},
        "outputId": "16949652-336e-4ff2-be5b-d82ed75483ad"
      },
      "source": [
        "list1=[1,2,3,4,5,6,7]\n",
        "#enter list\n",
        "print(list1)\n",
        "list1[0]\n",
        "print(list1[0])"
      ],
      "execution_count": 0,
      "outputs": [
        {
          "output_type": "stream",
          "text": [
            "[1, 2, 3, 4, 5, 6, 7]\n",
            "1\n"
          ],
          "name": "stdout"
        }
      ]
    },
    {
      "cell_type": "markdown",
      "metadata": {
        "id": "ipybfIKKPTD3",
        "colab_type": "text"
      },
      "source": [
        "## ex-4"
      ]
    },
    {
      "cell_type": "code",
      "metadata": {
        "id": "H84iHsAKPTD4",
        "colab_type": "code",
        "colab": {},
        "outputId": "d539ca84-2fad-4405-8a27-bdd0fec2e6f8"
      },
      "source": [
        "lst1 = [1,2,3,4,5,6,7]\n",
        "for x in lst1:\n",
        "    print(x,end= \" \")\n",
        "     \n",
        "print()\n",
        "print(lst1[4])\n",
        "print(lst1[3:7])\n",
        "print(lst1[0:3])\n",
        "print(lst1[:3])\n",
        "print(lst1[:7])\n"
      ],
      "execution_count": 0,
      "outputs": [
        {
          "output_type": "stream",
          "text": [
            "1 2 3 4 5 6 7 \n",
            "5\n",
            "[4, 5, 6, 7]\n",
            "[1, 2, 3]\n",
            "[1, 2, 3]\n",
            "[1, 2, 3, 4, 5, 6, 7]\n"
          ],
          "name": "stdout"
        }
      ]
    },
    {
      "cell_type": "markdown",
      "metadata": {
        "id": "LPkQVPtZPTD8",
        "colab_type": "text"
      },
      "source": [
        "## ex-5"
      ]
    },
    {
      "cell_type": "code",
      "metadata": {
        "id": "PWJgfmivPTD9",
        "colab_type": "code",
        "colab": {},
        "outputId": "9308988c-af2f-4c8d-a39a-117f1ad0a9c9"
      },
      "source": [
        "lst1 =[1,2,3,4,5,6,7,8,9,10]\n",
        "for x in lst1:\n",
        "      print(x,end= \" \")\n",
        "        \n",
        "print()\n",
        "print(lst1[1:-1])\n",
        "print(lst1[2:-2])\n",
        "print(lst1[::2])\n",
        "print(lst1[::3])\n",
        "print(lst1[::4])\n",
        "print(lst1[::-2])\n",
        "\n",
        "\n",
        "\n",
        "\n",
        "\n",
        "\n",
        "    "
      ],
      "execution_count": 0,
      "outputs": [
        {
          "output_type": "stream",
          "text": [
            "1 2 3 4 5 6 7 8 9 10 \n",
            "[2, 3, 4, 5, 6, 7, 8, 9]\n",
            "[3, 4, 5, 6, 7, 8]\n",
            "[1, 3, 5, 7, 9]\n",
            "[1, 4, 7, 10]\n",
            "[1, 5, 9]\n",
            "[10, 8, 6, 4, 2]\n"
          ],
          "name": "stdout"
        }
      ]
    },
    {
      "cell_type": "markdown",
      "metadata": {
        "id": "qroIz8TWPTEB",
        "colab_type": "text"
      },
      "source": [
        "## ex-3"
      ]
    },
    {
      "cell_type": "code",
      "metadata": {
        "id": "HlfeHEC0PTEC",
        "colab_type": "code",
        "colab": {},
        "outputId": "6b111bc0-1c63-476b-f71b-9281f918f18a"
      },
      "source": [
        "lst1=[\"kp\",\"mmkp1\",\"mmkp2\",1]\n",
        "print(lst1)\n",
        "\n",
        "lst1[2] = 15;\n",
        "print(lst1)\n",
        "del  lst1[3]\n",
        "print(lst1)\n",
        "lst1[1] =\"GITAM\"\n",
        "print(lst1)\n",
        "lst2=[1,2,3]\n",
        "print(lst2)\n",
        "print(lst1+lst2)"
      ],
      "execution_count": 0,
      "outputs": [
        {
          "output_type": "stream",
          "text": [
            "['kp', 'mmkp1', 'mmkp2', 1]\n",
            "['kp', 'mmkp1', 15, 1]\n",
            "['kp', 'mmkp1', 15]\n",
            "['kp', 'GITAM', 15]\n",
            "[1, 2, 3]\n",
            "['kp', 'GITAM', 15, 1, 2, 3]\n"
          ],
          "name": "stdout"
        }
      ]
    },
    {
      "cell_type": "markdown",
      "metadata": {
        "id": "i2mmMDgGPTEG",
        "colab_type": "text"
      },
      "source": [
        "## ex-4"
      ]
    },
    {
      "cell_type": "code",
      "metadata": {
        "id": "CBsL0NIxPTEH",
        "colab_type": "code",
        "colab": {},
        "outputId": "cb36fcee-6f2b-4193-ad67-0931be8b237a"
      },
      "source": [
        "lst1=[\"gitam\",\"python\",\"raptor\",1,5,\"python\",\"python\"]\n",
        "print(lst1)\n",
        "lst1.index(\"python\")\n",
        "lst1.index(1)\n",
        "print(len(lst1))\n",
        "lst1.insert(2,2019)\n",
        "print(lst1)\n",
        "print(len(lst1))\n",
        "lst1.insert(4,2020)\n",
        "print(lst1)"
      ],
      "execution_count": 0,
      "outputs": [
        {
          "output_type": "stream",
          "text": [
            "['gitam', 'python', 'raptor', 1, 5, 'python', 'python']\n",
            "7\n",
            "['gitam', 'python', 2019, 'raptor', 1, 5, 'python', 'python']\n",
            "8\n",
            "['gitam', 'python', 2019, 'raptor', 2020, 1, 5, 'python', 'python']\n"
          ],
          "name": "stdout"
        }
      ]
    },
    {
      "cell_type": "markdown",
      "metadata": {
        "id": "EQ2kKnOqPTEO",
        "colab_type": "text"
      },
      "source": [
        "## ex-5"
      ]
    },
    {
      "cell_type": "code",
      "metadata": {
        "id": "OJ0E8xHxPTEP",
        "colab_type": "code",
        "colab": {},
        "outputId": "73b9388e-5dce-423a-e390-0b9a7c39c5b5"
      },
      "source": [
        "lst1=[\"gitam\",\"python\",\"raptor\",1,5,\"python\",\"python\"]\n",
        "print(lst1)\n",
        "lst1.remove(\"python\")\n",
        "print(lst1)\n",
        "lst1.remove(\"python\")\n",
        "print(lst1)\n",
        "lst1.reverse()\n",
        "lst1"
      ],
      "execution_count": 0,
      "outputs": [
        {
          "output_type": "stream",
          "text": [
            "['gitam', 'python', 'raptor', 1, 5, 'python', 'python']\n",
            "['gitam', 'raptor', 1, 5, 'python', 'python']\n",
            "['gitam', 'raptor', 1, 5, 'python']\n"
          ],
          "name": "stdout"
        },
        {
          "output_type": "execute_result",
          "data": {
            "text/plain": [
              "['python', 5, 1, 'raptor', 'gitam']"
            ]
          },
          "metadata": {
            "tags": []
          },
          "execution_count": 32
        }
      ]
    },
    {
      "cell_type": "markdown",
      "metadata": {
        "id": "pcABzZ2rPTET",
        "colab_type": "text"
      },
      "source": [
        "## ex-6"
      ]
    },
    {
      "cell_type": "code",
      "metadata": {
        "id": "_vulJa2kPTET",
        "colab_type": "code",
        "colab": {},
        "outputId": "a2c7b8a5-1fa9-4d8b-ea49-19aa7edfe8ea"
      },
      "source": [
        "def linearsearch(a,taritem):\n",
        "    flag = 0\n",
        "    for i in range(len(a)):\n",
        "        if a[i] == taritem:\n",
        "            flag = 1\n",
        "            break\n",
        "    if(flag!=0):\n",
        "            print(\"target item is found\")\n",
        "    else:\n",
        "            print(\"target item is not found\")\n",
        "            \n",
        "a=[16,2,12,9,6,7,1]\n",
        "linearsearch(a,61)"
      ],
      "execution_count": 0,
      "outputs": [
        {
          "output_type": "stream",
          "text": [
            "target item is not found\n"
          ],
          "name": "stdout"
        }
      ]
    },
    {
      "cell_type": "markdown",
      "metadata": {
        "id": "H6wC7GPkPTEX",
        "colab_type": "text"
      },
      "source": [
        "## ex-7"
      ]
    },
    {
      "cell_type": "code",
      "metadata": {
        "id": "ocq2nXxfPTEX",
        "colab_type": "code",
        "colab": {},
        "outputId": "87f73d38-7154-4d1e-88d8-637af27973b7"
      },
      "source": [
        "def linearsearchDuplicate(a,taritem):\n",
        "        flag = 0\n",
        "        for i in range(len(a)):\n",
        "            if a[i] == taritem:\n",
        "                flag =flag+ 1\n",
        "            \n",
        "        print(flag)\n",
        "            \n",
        "a=[9,1,6,1,5,9,15,16]\n",
        "linearsearchDuplicate(a,9)\n",
        "    "
      ],
      "execution_count": 0,
      "outputs": [
        {
          "output_type": "stream",
          "text": [
            "2\n"
          ],
          "name": "stdout"
        }
      ]
    },
    {
      "cell_type": "code",
      "metadata": {
        "id": "sl7SXZuWPTEb",
        "colab_type": "code",
        "colab": {}
      },
      "source": [
        ""
      ],
      "execution_count": 0,
      "outputs": []
    }
  ]
}